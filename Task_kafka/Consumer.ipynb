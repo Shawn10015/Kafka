{
 "cells": [
  {
   "cell_type": "code",
   "execution_count": 1,
   "metadata": {},
   "outputs": [],
   "source": [
    "from confluent_kafka import Consumer, KafkaException\n",
    "import json\n",
    "import pandas as pd\n",
    "import time"
   ]
  },
  {
   "cell_type": "code",
   "execution_count": 2,
   "metadata": {},
   "outputs": [],
   "source": [
    "#connect to Kafka\n",
    "consumer = Consumer({\n",
    "    'bootstrap.servers': 'localhost:9092',\n",
    "    'group.id': 'iot_consumer',\n",
    "    'auto.offset.reset': 'latest'\n",
    "})\n",
    "\n",
    "consumer.subscribe(['iot_topic'])\n",
    "#init dataframe\n",
    "df = pd.DataFrame(columns=['time', 'sensor_type', 'sensor_name', 'value'])"
   ]
  },
  {
   "cell_type": "code",
   "execution_count": 3,
   "metadata": {},
   "outputs": [
    {
     "name": "stdout",
     "output_type": "stream",
     "text": [
      "Average of Sensor By Type: {'light': 0.4476894711238868, 'pressure': 5.821059092057766, 'temperature': 20.712036230025006}\n",
      "Average of Sensor By Name: {'light_sensor_1': 0.5012686412982569, 'light_sensor_2': 0.428206136515025, 'pressure_sensor_1': 5.341840525741799, 'pressure_sensor_2': 5.4240918466956325, 'pressure_sensor_3': 7.299591534661986, 'temperature_sensor_1': 21.040431925334456, 'temperature_sensor_2': 19.8127643174336, 'temperature_sensor_3': 21.36119355521776, 'temperature_sensor_4': 20.530941124776625}\n",
      "Average of Sensor By Type: {'light': 0.4585431167584298, 'pressure': 6.559510044437487, 'temperature': 22.2730965882415}\n",
      "Average of Sensor By Name: {'light_sensor_1': 0.2732118302348394, 'light_sensor_2': 0.5114949129080271, 'pressure_sensor_1': 6.910380127613888, 'pressure_sensor_2': 6.005057428927417, 'pressure_sensor_3': 6.6158050259284185, 'temperature_sensor_1': 24.35192951071455, 'temperature_sensor_2': 25.654448013307395, 'temperature_sensor_3': 18.40564293672228, 'temperature_sensor_4': 15.9929663525926}\n",
      "Average of Sensor By Type: {'light': 0.4655396390667894, 'pressure': 4.796042481629571, 'temperature': 19.998737892917127}\n",
      "Average of Sensor By Name: {'light_sensor_1': 0.4169392476016564, 'light_sensor_2': 0.48636837826613216, 'pressure_sensor_1': 4.215066114095022, 'pressure_sensor_2': 3.778756218311628, 'pressure_sensor_3': 9.009854006652496, 'temperature_sensor_1': 16.960155962386608, 'temperature_sensor_2': 19.658778388496692, 'temperature_sensor_3': 25.456910138735715, 'temperature_sensor_4': 21.367406544705975}\n"
     ]
    }
   ],
   "source": [
    "last_current_time = time.time()\n",
    "\n",
    "try:\n",
    "    while True: \n",
    "        message = consumer.poll(1.0)\n",
    "        if message is None:\n",
    "            continue\n",
    "        if message.error():\n",
    "            raise KafkaException(message.error())\n",
    "        else:\n",
    "            sensor_data = json.loads(message.value().decode('utf-8'))\n",
    "            df = pd.concat([df, pd.DataFrame([sensor_data])], ignore_index=True)\n",
    "            # print(f\"Receive data: {sensor_data}\")\n",
    "\n",
    "        current_time = time.time()\n",
    "\n",
    "        #every 20s, unix timestamp cannot accurately at 20\n",
    "        if 20 <= current_time - last_current_time < 22:\n",
    "            mean_sensor_type = df.groupby('sensor_type')['value'].mean().to_dict()\n",
    "            mean_sensor_name = df.groupby('sensor_name')['value'].mean().to_dict()\n",
    "            \n",
    "            print(f\"Average of Sensor By Type: {mean_sensor_type}\")\n",
    "            print(f\"Average of Sensor By Name: {mean_sensor_name}\")\n",
    "\n",
    "            df = df.iloc[0:0]\n",
    "\n",
    "            last_current_time = current_time\n",
    "\n",
    "finally:\n",
    "    consumer.close()"
   ]
  }
 ],
 "metadata": {
  "kernelspec": {
   "display_name": "base",
   "language": "python",
   "name": "python3"
  },
  "language_info": {
   "codemirror_mode": {
    "name": "ipython",
    "version": 3
   },
   "file_extension": ".py",
   "mimetype": "text/x-python",
   "name": "python",
   "nbconvert_exporter": "python",
   "pygments_lexer": "ipython3",
   "version": "3.11.3"
  }
 },
 "nbformat": 4,
 "nbformat_minor": 2
}
