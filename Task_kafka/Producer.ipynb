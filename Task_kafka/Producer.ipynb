{
 "cells": [
  {
   "cell_type": "code",
   "execution_count": 1,
   "metadata": {},
   "outputs": [],
   "source": [
    "from confluent_kafka import Producer\n",
    "import json\n",
    "import time\n",
    "import random\n",
    "from concurrent.futures import ThreadPoolExecutor"
   ]
  },
  {
   "cell_type": "code",
   "execution_count": 2,
   "metadata": {},
   "outputs": [],
   "source": [
    "#settings, connect to Kafka\n",
    "producer = Producer({\n",
    "        'bootstrap.servers': 'localhost:9092'\n",
    "})"
   ]
  },
  {
   "cell_type": "code",
   "execution_count": 1,
   "metadata": {},
   "outputs": [],
   "source": [
    "#create some sensors\n",
    "sensor = [\n",
    "    {\"type\": \"temperature\", \"name\": \"temperature_sensor_1\", \"frequency\": 2},\n",
    "    {\"type\": \"temperature\", \"name\": \"temperature_sensor_2\", \"frequency\": 3},\n",
    "    {\"type\": \"temperature\", \"name\": \"temperature_sensor_3\", \"frequency\": 4},\n",
    "    {\"type\": \"temperature\", \"name\": \"temperature_sensor_4\", \"frequency\": 5},\n",
    "    {\"type\": \"pressure\", \"name\": \"pressure_sensor_1\", \"frequency\": 10},\n",
    "    {\"type\": \"pressure\", \"name\": \"pressure_sensor_2\", \"frequency\": 8},\n",
    "    {\"type\": \"pressure\", \"name\": \"pressure_sensor_3\", \"frequency\": 15},\n",
    "    {\"type\": \"light\", \"name\": \"light_sensor_1\", \"frequency\": 9},\n",
    "    {\"type\": \"light\", \"name\": \"light_sensor_2\", \"frequency\": 3},\n",
    "]"
   ]
  },
  {
   "cell_type": "code",
   "execution_count": null,
   "metadata": {},
   "outputs": [],
   "source": [
    "#init sensor\n",
    "def sensor_data(sensor_type, sensor_name):\n",
    "    if sensor_type == \"temperature\":\n",
    "        value = random.uniform(12, 30)\n",
    "    elif sensor_type == \"pressure\":\n",
    "        value = random.uniform(1, 10)\n",
    "    else:\n",
    "        value = random.uniform(0, 1)   \n",
    "\n",
    "    return {\n",
    "        'time': int(time.time()),\n",
    "        'sensor_type': sensor_type,\n",
    "        'sensor_name': sensor_name,\n",
    "        'value': value\n",
    "    }\n",
    "#send single sensor\n",
    "def producer_send(sensor):\n",
    "    while True:\n",
    "        data  = sensor_data(sensor[\"type\"], sensor[\"name\"])\n",
    "        producer.produce('iot_topic', json.dumps(data))\n",
    "        producer.flush()\n",
    "        time.sleep(sensor[\"frequency\"])\n",
    "\n",
    "#automaticlly independently running\n",
    "with ThreadPoolExecutor(max_workers=len(sensor)) as sensor_thread:\n",
    "    for single_sensor in sensor:\n",
    "        sensor_thread.submit(producer_send, single_sensor)"
   ]
  }
 ],
 "metadata": {
  "kernelspec": {
   "display_name": "base",
   "language": "python",
   "name": "python3"
  },
  "language_info": {
   "codemirror_mode": {
    "name": "ipython",
    "version": 3
   },
   "file_extension": ".py",
   "mimetype": "text/x-python",
   "name": "python",
   "nbconvert_exporter": "python",
   "pygments_lexer": "ipython3",
   "version": "3.11.3"
  }
 },
 "nbformat": 4,
 "nbformat_minor": 2
}
