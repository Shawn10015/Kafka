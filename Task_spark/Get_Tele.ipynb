{
 "cells": [
  {
   "cell_type": "code",
   "execution_count": 1,
   "metadata": {},
   "outputs": [],
   "source": [
    "from telethon import TelegramClient, events, sync\n",
    "import nest_asyncio\n",
    "import pandas as pd\n",
    "from datetime import datetime\n",
    "import schedule\n",
    "import asyncio\n",
    "import os\n",
    "import time"
   ]
  },
  {
   "cell_type": "code",
   "execution_count": 2,
   "metadata": {},
   "outputs": [],
   "source": [
    "nest_asyncio.apply()\n",
    "\n",
    "folder_path = \"./Tele_data/\"\n",
    "\n",
    "if not os.path.exists(folder_path):\n",
    "    os.makedirs(folder_path)"
   ]
  },
  {
   "cell_type": "code",
   "execution_count": 3,
   "metadata": {},
   "outputs": [],
   "source": [
    "#create getting message function\n",
    "class get_data:\n",
    "    def __init__(self, channel_id, channel_name):\n",
    "        self.channel_id = channel_id\n",
    "        self.channel_name = channel_name\n",
    "        self.df = pd.DataFrame(columns=['time', 'channel', 'text', 'media'])\n",
    "\n",
    "    async def get_message(self, event):\n",
    "        message_data = {\n",
    "            'time': event.date,\n",
    "            'channel': self.channel_id,\n",
    "            'text': event.message.message,\n",
    "            'media': bool(event.message.media)\n",
    "        }\n",
    "        new_row = pd.DataFrame([message_data])\n",
    "        self.df = pd.concat([self.df, new_row], ignore_index=True)"
   ]
  },
  {
   "cell_type": "code",
   "execution_count": 4,
   "metadata": {},
   "outputs": [],
   "source": [
    "api_id = 'api_id'\n",
    "api_hash = 'api_hash'\n",
    "#ningad1, ID: 2116583573, for test\n",
    "#bbcrussian, ID: 1003921752\n",
    "#rbc_news, ID: 1099860397\n",
    "#varlamov_news, ID: 1124038902\n",
    "#telegram, ID: 1005640892\n",
    "channel_names = ['BBCRussian', 'RBCNews', 'VarlamovNews', 'TelegramNews', 'NingaD1']\n",
    "channel_ids = ['-1001003921752', '-1001099860397', '-1001124038902', '-1001005640892','-1002116583573']\n",
    "client = TelegramClient('tele_data', api_id, api_hash)\n",
    "\n",
    "#Traverse\n",
    "channel_info_list = [get_data(int(single_channel_id), single_channel_name) for single_channel_id, single_channel_name in zip(channel_ids, channel_names)]\n",
    "\n",
    "#Telegram Api for getting channel message\n",
    "@client.on(events.NewMessage(chats=[single_id.channel_id for single_id in channel_info_list]))\n",
    "async def push_message_df(event):\n",
    "    for single_channel in channel_info_list:\n",
    "        if event.chat_id == single_channel.channel_id:\n",
    "            await single_channel.get_message(event)\n",
    "            break"
   ]
  },
  {
   "cell_type": "code",
   "execution_count": 5,
   "metadata": {},
   "outputs": [],
   "source": [
    "#save as paquet\n",
    "def save_data():\n",
    "    for single_channel in channel_info_list:\n",
    "        if not single_channel.df.empty:\n",
    "            file_name = f'{folder_path}{single_channel.channel_name}_{datetime.now().strftime(\"%Y%m%d%H%M%S\")}.parquet'\n",
    "            single_channel.df.to_parquet(file_name)\n",
    "            single_channel.df = single_channel.df.iloc[0:0]"
   ]
  },
  {
   "cell_type": "code",
   "execution_count": 6,
   "metadata": {},
   "outputs": [
    {
     "name": "stderr",
     "output_type": "stream",
     "text": [
      "C:\\Users\\28243\\AppData\\Local\\Temp\\ipykernel_11312\\844511895.py:16: FutureWarning: The behavior of DataFrame concatenation with empty or all-NA entries is deprecated. In a future version, this will no longer exclude empty or all-NA columns when determining the result dtypes. To retain the old behavior, exclude the relevant entries before the concat operation.\n",
      "  self.df = pd.concat([self.df, new_row], ignore_index=True)\n"
     ]
    }
   ],
   "source": [
    "#1 time/1s\n",
    "schedule.every(1).minutes.do(save_data)\n",
    "\n",
    "async def main():\n",
    "    await client.start()\n",
    "    while True:\n",
    "        schedule.run_pending()\n",
    "        await asyncio.sleep(1)       \n",
    "\n",
    "\n",
    "\n",
    "asyncio.run(main())"
   ]
  }
 ],
 "metadata": {
  "kernelspec": {
   "display_name": "base",
   "language": "python",
   "name": "python3"
  },
  "language_info": {
   "codemirror_mode": {
    "name": "ipython",
    "version": 3
   },
   "file_extension": ".py",
   "mimetype": "text/x-python",
   "name": "python",
   "nbconvert_exporter": "python",
   "pygments_lexer": "ipython3",
   "version": "3.11.5"
  }
 },
 "nbformat": 4,
 "nbformat_minor": 2
}
