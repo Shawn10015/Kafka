{
 "cells": [
  {
   "cell_type": "code",
   "execution_count": 5,
   "metadata": {},
   "outputs": [],
   "source": [
    "from pyspark.sql import SparkSession\n",
    "from pyspark.sql.functions import *\n",
    "from pyspark.sql.types import *\n",
    "import time"
   ]
  },
  {
   "cell_type": "code",
   "execution_count": 6,
   "metadata": {},
   "outputs": [],
   "source": [
    "spark = SparkSession.builder.appName(\"Telegram_analysis\").config(\"spark.ui.port\", \"4050\").getOrCreate()"
   ]
  },
  {
   "cell_type": "code",
   "execution_count": 7,
   "metadata": {},
   "outputs": [],
   "source": [
    "data_type = StructType([\n",
    "    StructField(\"time\", TimestampType(), True),\n",
    "    StructField(\"channel\", LongType(), True),\n",
    "    StructField(\"text\", StringType(), True),\n",
    "    StructField(\"media\", BooleanType(), True)\n",
    "])\n",
    "\n",
    "df = spark.readStream.schema(data_type).parquet(\"Tele_data/\")\n"
   ]
  },
  {
   "cell_type": "code",
   "execution_count": 8,
   "metadata": {},
   "outputs": [],
   "source": [
    "window_time = \"1 minute\"  \n",
    "slide_time = \"1 minute\"   \n",
    "\n",
    "#group time in 1 mintues\n",
    "window_count = df.groupBy(window(col(\"time\"), window_time, slide_time),col(\"channel\")).count().withColumnRenamed(\"count\", \"messages_count\")\n",
    "\n",
    "#every mintues 1 message should be good\n",
    "max_message = 1 \n",
    "error_frequency = col(\"messages_count\") > max_message\n",
    "\n",
    "# check\n",
    "check_message_count = window_count.filter(error_frequency)\n",
    "\n",
    "frequency_query = check_message_count.writeStream.outputMode(\"update\").format(\"console\").start()"
   ]
  },
  {
   "cell_type": "code",
   "execution_count": null,
   "metadata": {},
   "outputs": [],
   "source": [
    "negative_word = [\"плохо\", \"стра\", \"ненависть\", \"злой\", \"боль\" ]\n",
    "\n",
    "#check words\n",
    "condition = col(\"text\").contains(negative_word[0])\n",
    "for word in negative_word[1:]:\n",
    "    condition = condition | col(\"text\").contains(word)\n",
    "\n",
    "check_bad_word = df.filter(condition)\n",
    "\n",
    "word_query = check_bad_word.writeStream.outputMode(\"update\").format(\"console\").start()\n",
    "\n",
    "word_query.awaitTermination()\n",
    "frequency_query.awaitTermination()\n"
   ]
  }
 ],
 "metadata": {
  "kernelspec": {
   "display_name": "base",
   "language": "python",
   "name": "python3"
  },
  "language_info": {
   "codemirror_mode": {
    "name": "ipython",
    "version": 3
   },
   "file_extension": ".py",
   "mimetype": "text/x-python",
   "name": "python",
   "nbconvert_exporter": "python",
   "pygments_lexer": "ipython3",
   "version": "3.11.5"
  }
 },
 "nbformat": 4,
 "nbformat_minor": 2
}
